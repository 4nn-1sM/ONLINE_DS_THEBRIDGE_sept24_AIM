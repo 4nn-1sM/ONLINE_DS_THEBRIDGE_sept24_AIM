{
 "cells": [
  {
   "cell_type": "markdown",
   "metadata": {
    "id": "9l3HMgm6RWxF"
   },
   "source": [
    "![TheBridge_logo_RGB_color.jpg](attachment:TheBridge_logo_RGB_color.jpg)"
   ]
  },
  {
   "cell_type": "markdown",
   "metadata": {
    "id": "RGg9iWpoRWxG"
   },
   "source": [
    "![ejercicios.png](attachment:ejercicios.png)"
   ]
  },
  {
   "cell_type": "markdown",
   "metadata": {
    "id": "AyOlWS2nRWxH"
   },
   "source": [
    "## PRACTICA OBLIGATORIA: COLECCIONES Y FUNCIONES"
   ]
  },
  {
   "cell_type": "markdown",
   "metadata": {
    "id": "6UOgb0KVRWxH"
   },
   "source": [
    "* La práctica obligatoria de esta unidad consiste varios ejercicios de programación libre a completar sobre Colecciones y Funciones. Descarga este notebook en tu ordenador y trabaja en local.  \n",
    "* Recuerda que debes subirla a tu repositorio personal antes de la sesión en vivo para que puntúe adecuadamente y puedas participar en dicha sesión.  \n",
    "* Recuerda también que no es necesario que esté perfecta, sólo es necesario que se vea el esfuerzo.\n",
    "* Esta práctica se resolverá en la sesión en vivo correspondiente y la solución se publicará en el repo del curso."
   ]
  },
  {
   "cell_type": "markdown",
   "metadata": {
    "id": "j3yu-tEjRWxH"
   },
   "source": [
    "### Contenidos"
   ]
  },
  {
   "cell_type": "markdown",
   "metadata": {
    "id": "kO-fLH39RWxH"
   },
   "source": [
    "## Ejercicio 1\n",
    "Eleva todos los elementos de la lista al cuadrado\n",
    "> ```ejer_2 = [1,2,3,4,5]```"
   ]
  },
  {
   "cell_type": "code",
   "execution_count": 8,
   "metadata": {
    "id": "ks5l3yi7RWxH"
   },
   "outputs": [
    {
     "name": "stdout",
     "output_type": "stream",
     "text": [
      "[1, 4, 9, 16, 25]\n"
     ]
    }
   ],
   "source": [
    "ejer_2 = [1,2,3,4,5]\n",
    "cuad = [x**2 for x in ejer_2]\n",
    "print(cuad)"
   ]
  },
  {
   "cell_type": "markdown",
   "metadata": {
    "id": "kI_Xr5oFRWxI"
   },
   "source": [
    "## Ejercicio 2\n",
    "Haz un programa que detecte todos los duplicados de un elemento en una lista:\n",
    "* Utiliza una variable duplicado para asignarle el valor del elemento del que queremos encontrar todos sus duplicados.\n",
    "* El programa debe devolver todos los índices de los elementos duplicados.\n",
    "* Aplícalo para encontrar los duplicados de \"un\", \"es\" y \"binario\" de:  \n",
    "\n",
    ">```ejer_3 = [\"Un\", \"árbol\", \"binario\", \"es\", \"una\", \"estructura\", \"de\", \"un\", \"tipo\", \"particular\", \"a\", \"veces\", \"no\", \"es\", \"ni\", \"binario\"]```\n"
   ]
  },
  {
   "cell_type": "code",
   "execution_count": 2,
   "metadata": {
    "id": "cLY9WB7YRWxI"
   },
   "outputs": [
    {
     "name": "stdout",
     "output_type": "stream",
     "text": [
      "[7]\n",
      "[3, 13]\n",
      "[2, 15]\n"
     ]
    }
   ],
   "source": [
    "def detect_duplic (lista, duplicado):\n",
    "    indices = [i for i, elemento in enumerate(lista) if elemento == duplicado]\n",
    "    return indices\n",
    "    \n",
    "ejer_3 = [\"Un\", \"árbol\", \"binario\", \"es\", \"una\", \"estructura\", \"de\", \"un\", \"tipo\", \"particular\", \"a\", \"veces\", \"no\", \"es\", \"ni\", \"binario\"]\n",
    "\n",
    "# Buscar duplicados de \"un\", \"es\" y \"binario\"\n",
    "duplicado_un = detect_duplic (ejer_3, \"un\")\n",
    "duplicado_es = detect_duplic (ejer_3, \"es\")\n",
    "duplicado_binario = detect_duplic (ejer_3, \"binario\")\n",
    "\n",
    "print(duplicado_un)\n",
    "print(duplicado_es)\n",
    "print(duplicado_binario)"
   ]
  },
  {
   "cell_type": "markdown",
   "metadata": {
    "id": "3WrBd5QaRWxI"
   },
   "source": [
    "## Ejercicio 3\n",
    "1. ¿Cuántas veces se repite el 3 en la siguiente tupla?\n",
    "2. Crea una tupla nueva con los elementos desde la posicion 5 a la 10.\n",
    "3. ¿Cuántos elementos tiene la tupla `ejer_3`?\n",
    "> ```ejer_9 = (3, 20, 3, 47, 19, 3, 29, 45, 67, 78, 90, 3, 3, 5, 2, 4, 7, 9, 4, 2, 4, 3, 3, 4, 6, 7)```"
   ]
  },
  {
   "cell_type": "code",
   "execution_count": 4,
   "metadata": {
    "id": "bkv_R5LYRWxI"
   },
   "outputs": [
    {
     "name": "stdout",
     "output_type": "stream",
     "text": [
      "7\n",
      "(19, 3, 29, 45, 67, 78)\n",
      "16\n"
     ]
    }
   ],
   "source": [
    "ejer_9 = (3, 20, 3, 47, 19, 3, 29, 45, 67, 78, 90, 3, 3, 5, 2, 4, 7, 9, 4, 2, 4, 3, 3, 4, 6, 7)\n",
    "# 1.\n",
    "repe3 = ejer_9.count(3)\n",
    "print(repe3)\n",
    "# 2.\n",
    "tupla2 = ejer_9[4:10]\n",
    "print(tupla2)\n",
    "# 3.\n",
    "tupla_ejer_3 = tuple(ejer_3)\n",
    "print(len(tupla_ejer_3))\n",
    "\n"
   ]
  },
  {
   "cell_type": "markdown",
   "metadata": {
    "id": "6g8Y54AeRWxI"
   },
   "source": [
    "## Ejercicio 4\n",
    "Comprueba si el numero 60 esta en la tupla del ejercicio 3"
   ]
  },
  {
   "cell_type": "code",
   "execution_count": 15,
   "metadata": {
    "id": "F8VTEZonRWxI"
   },
   "outputs": [
    {
     "name": "stdout",
     "output_type": "stream",
     "text": [
      "0\n"
     ]
    }
   ],
   "source": [
    "num60 = ejer_9.count(60)\n",
    "print(num60)"
   ]
  },
  {
   "cell_type": "markdown",
   "metadata": {
    "id": "y0fg-ZA6RWxI"
   },
   "source": [
    "## Ejercicio 5\n",
    "1. Convierte la tupla del ejercicio 3 en una lista\n",
    "2. Convierte la tupla del ejercicio 3 en un set\n",
    "3. Convierte la tupla del ejercicio 3 en un diccionario. Usa también los indices"
   ]
  },
  {
   "cell_type": "code",
   "execution_count": 5,
   "metadata": {
    "id": "_O5hXr01RWxI"
   },
   "outputs": [
    {
     "name": "stdout",
     "output_type": "stream",
     "text": [
      "[3, 20, 3, 47, 19, 3, 29, 45, 67, 78, 90, 3, 3, 5, 2, 4, 7, 9, 4, 2, 4, 3, 3, 4, 6, 7]\n",
      "{2, 3, 67, 5, 4, 7, 6, 9, 45, 78, 47, 19, 20, 90, 29}\n",
      "{0: 3, 1: 20, 2: 3, 3: 47, 4: 19, 5: 3, 6: 29, 7: 45, 8: 67, 9: 78, 10: 90, 11: 3, 12: 3, 13: 5, 14: 2, 15: 4, 16: 7, 17: 9, 18: 4, 19: 2, 20: 4, 21: 3, 22: 3, 23: 4, 24: 6, 25: 7}\n"
     ]
    }
   ],
   "source": [
    "# lista\n",
    "lista_ej3 = list(ejer_9)\n",
    "print(lista_ej3)\n",
    "# Set\n",
    "set_ej3 = set(ejer_9)\n",
    "print(set_ej3)\n",
    "# Diccionario\n",
    "dic_ej3 = {i: valor for i, valor in enumerate(ejer_9)}\n",
    "print(dic_ej3)\n"
   ]
  },
  {
   "cell_type": "markdown",
   "metadata": {
    "id": "eOdWWbxvRWxJ"
   },
   "source": [
    "## Ejercicio 6\n",
    "Multiplica todos los valores del diccionario\n",
    "> ```ejer_6 = {1: 11, 2: 22, 3: 33, 4: 44, 5: 55}```"
   ]
  },
  {
   "cell_type": "code",
   "execution_count": 6,
   "metadata": {
    "id": "KcuByovKRWxJ"
   },
   "outputs": [
    {
     "name": "stdout",
     "output_type": "stream",
     "text": [
      "19326120\n"
     ]
    }
   ],
   "source": [
    "ejer_6 = {1: 11, 2: 22, 3: 33, 4: 44, 5: 55}\n",
    "multiplicacion = 1\n",
    "for i in ejer_6:\n",
    "    multiplicacion = multiplicacion*ejer_6[i]\n",
    "print(multiplicacion)"
   ]
  },
  {
   "cell_type": "markdown",
   "metadata": {
    "id": "W7TUSaKRRWxJ"
   },
   "source": [
    "## Ejercicio 7\n",
    "\n",
    "1. Crea un diccionario que describa un libro, con los siguientes campos o claves: \"titulo\",\"autor\",\"idioma original\",\"año de publicación\".\n",
    "2. Crea un a lista, llamada librería.\n",
    "3. Añade cuatro libros a tu elección a la librería."
   ]
  },
  {
   "cell_type": "code",
   "execution_count": 22,
   "metadata": {
    "id": "d-IMRvxRRWxJ",
    "vscode": {
     "languageId": "plaintext"
    }
   },
   "outputs": [
    {
     "name": "stdout",
     "output_type": "stream",
     "text": [
      "[]\n",
      "{'titulo': 'Persuasión', 'autor': 'Jane Austen', 'idioma original': 'Inglés', 'año de publicación': 1817}\n",
      "{'titulo': 'Tormento', 'autor': 'Benito Pérez Galdós', 'idioma original': 'Español', 'año de publicación': 1884}\n",
      "{'titulo': 'Madame Bovary', 'autor': 'Gustave Flaubert', 'idioma original': 'Francés', 'año de publicación': 1856}\n",
      "{'titulo': 'Niebla', 'autor': 'Miguel de Unamuno', 'idioma original': 'Español', 'año de publicación': 1914}\n",
      "[{'titulo': 'Persuasión', 'autor': 'Jane Austen', 'idioma original': 'Inglés', 'año de publicación': 1817}, {'titulo': 'Tormento', 'autor': 'Benito Pérez Galdós', 'idioma original': 'Español', 'año de publicación': 1884}, {'titulo': 'Madame Bovary', 'autor': 'Gustave Flaubert', 'idioma original': 'Francés', 'año de publicación': 1856}, {'titulo': 'Niebla', 'autor': 'Miguel de Unamuno', 'idioma original': 'Español', 'año de publicación': 1914}]\n"
     ]
    }
   ],
   "source": [
    "\n",
    "librería = list()\n",
    "print(librería)\n",
    "campos = [\"titulo\",\"autor\",\"idioma original\",\"año de publicación\"]\n",
    "libro1 = [\"Persuasión\",\"Jane Austen\", \"Inglés\", 1817]\n",
    "libro2 = [\"Tormento\",\"Benito Pérez Galdós\", \"Español\", 1884]\n",
    "libro3 = [\"Madame Bovary\",\"Gustave Flaubert\", \"Francés\", 1856]\n",
    "libro4 = [\"Niebla\",\"Miguel de Unamuno\", \"Español\", 1914]\n",
    "libro_1 = {campo:desc for campo, desc in zip(campos,libro1)}\n",
    "print(libro_1)\n",
    "libro_2 = {campo:desc for campo, desc in zip(campos,libro2)}\n",
    "print(libro_2)\n",
    "libro_3 = {campo:desc for campo, desc in zip(campos,libro3)}\n",
    "print(libro_3)\n",
    "libro_4 = {campo:desc for campo, desc in zip(campos,libro4)}\n",
    "print(libro_4)\n",
    "librería = [libro_1, libro_2, libro_3, libro_4]\n",
    "print(librería)"
   ]
  },
  {
   "cell_type": "markdown",
   "metadata": {
    "id": "glMoedjYRWxJ"
   },
   "source": [
    "## Ejercicio 8\n",
    "Modifica los valores del idioma de todos los libros del ejercicio anterior para que sea \"esperanto\"\n"
   ]
  },
  {
   "cell_type": "code",
   "execution_count": 31,
   "metadata": {
    "id": "veNdC-uwRWxJ"
   },
   "outputs": [
    {
     "name": "stdout",
     "output_type": "stream",
     "text": [
      "[{'titulo': 'Persuasión', 'autor': 'Jane Austen', 'idioma original': 'Esperanto', 'año de publicación': 1817, 'Idioma original': 'Esperanto'}, {'titulo': 'Tormento', 'autor': 'Benito Pérez Galdós', 'idioma original': 'Esperanto', 'año de publicación': 1884, 'Idioma original': 'Esperanto'}, {'titulo': 'Madame Bovary', 'autor': 'Gustave Flaubert', 'idioma original': 'Esperanto', 'año de publicación': 1856, 'Idioma original': 'Esperanto'}, {'titulo': 'Niebla', 'autor': 'Miguel de Unamuno', 'idioma original': 'Esperanto', 'año de publicación': 1914, 'Idioma original': 'Esperanto'}]\n"
     ]
    }
   ],
   "source": [
    "libro_1.update({'idioma original': \"Esperanto\"})\n",
    "libro_2.update({'idioma original': \"Esperanto\"})\n",
    "libro_3.update({'idioma original': \"Esperanto\"})\n",
    "libro_4.update({'idioma original': \"Esperanto\"})\n",
    "print(librería)"
   ]
  },
  {
   "cell_type": "markdown",
   "metadata": {
    "id": "DRCJG04KRWxJ"
   },
   "source": [
    "## Ejercicio 9\n",
    "1. Escribe un programa que dada una variable titulo busque los libros que hay en la librería con ese título. Si no se encuentra debe devolver el mensaje `Ese no lo tengo, ¿mola?`\n",
    "2. Pruena que el programa con uno de tus libros y con otro que no contenga tu librería."
   ]
  },
  {
   "cell_type": "code",
   "execution_count": 43,
   "metadata": {
    "id": "eWHdJi9BRWxJ"
   },
   "outputs": [
    {
     "name": "stdout",
     "output_type": "stream",
     "text": [
      "libro encontrado\n",
      "Ese no lo tengo, ¿mola?\n"
     ]
    }
   ],
   "source": [
    "def buscar_titulo(librería,titulo):\n",
    "    for libro in librería:\n",
    "        if libro[\"titulo\"] == titulo:\n",
    "            return \"libro encontrado\"   \n",
    "    return \"Ese no lo tengo, ¿mola?\"\n",
    "\n",
    "mi_libro = \"Persuasión\"\n",
    "print(buscar_titulo(librería, mi_libro))\n",
    "\n",
    "\n",
    "otro_libro = \"Harry Potter\"\n",
    "print(buscar_titulo(librería, otro_libro))\n",
    "    \n",
    "        "
   ]
  },
  {
   "cell_type": "markdown",
   "metadata": {
    "id": "17YOpYuFRWxJ"
   },
   "source": [
    "## Ejercicio 10\n",
    "Convierte el programa del ejercicio 2 en una función al que se le pase el valor a buscar como un argumento posicional"
   ]
  },
  {
   "cell_type": "code",
   "execution_count": 12,
   "metadata": {
    "id": "xbj0LgvnRWxJ"
   },
   "outputs": [
    {
     "name": "stdout",
     "output_type": "stream",
     "text": [
      "Duplicados de 'un': [7]\n",
      "Duplicados de 'es': [3, 13]\n",
      "Duplicados de 'binario': [2, 15]\n"
     ]
    }
   ],
   "source": [
    "def detect_duplic (lista, duplicado):\n",
    "    indices = [i for i, elemento in enumerate(lista) if elemento == duplicado]\n",
    "    return indices\n",
    "\n",
    "def buscar_duplicados(lista, *duplicados):\n",
    "    resultados = {}\n",
    "    for duplicado in duplicados:\n",
    "        resultados[duplicado] = detect_duplic(lista, duplicado)\n",
    "    return resultados\n",
    "ejer_3 = [\"Un\", \"árbol\", \"binario\", \"es\", \"una\", \"estructura\", \"de\", \"un\", \"tipo\", \"particular\", \"a\", \"veces\", \"no\", \"es\", \"ni\", \"binario\"]\n",
    "\n",
    "resultados = buscar_duplicados(ejer_3, \"un\", \"es\", \"binario\")\n",
    "\n",
    "for palabra, indices in resultados.items():\n",
    "    print(f\"Duplicados de '{palabra}': {indices}\")"
   ]
  },
  {
   "cell_type": "markdown",
   "metadata": {
    "id": "xZ-sWJxPRWxJ"
   },
   "source": [
    "## Ejercicio 11\n",
    "Convierte el programa del ejercicio 9 en una función al que se le pasen como argumentos la librería, posicional, y el título, argumento keyword con valor \"ninguno\", por defecto."
   ]
  },
  {
   "cell_type": "code",
   "execution_count": 46,
   "metadata": {
    "id": "4-JrsMdNRWxK"
   },
   "outputs": [
    {
     "name": "stdout",
     "output_type": "stream",
     "text": [
      "libro encontrado\n",
      "Ese no lo tengo, ¿mola?\n",
      "Ese no lo tengo, ¿mola?\n"
     ]
    }
   ],
   "source": [
    "def buscar_titulo(librería,titulo=None):\n",
    "    for libro in librería:\n",
    "        if libro[\"titulo\"] == titulo:\n",
    "            return \"libro encontrado\"   \n",
    "    return \"Ese no lo tengo, ¿mola?\"\n",
    "\n",
    "mi_libro = \"Persuasión\"\n",
    "print(buscar_titulo(librería, mi_libro))\n",
    "otro_libro = \"Harry Potter\"\n",
    "print(buscar_titulo(librería, otro_libro))\n",
    "print(buscar_titulo(librería,))    \n"
   ]
  },
  {
   "cell_type": "markdown",
   "metadata": {
    "id": "FtJir95QRWxK"
   },
   "source": [
    "## Ejercicio 12\n",
    "Solicitar al usuario que ingrese su dirección email. Imprimir un mensaje indicando si la dirección es válida o no, valiéndose de una función para decidirlo. Una dirección se considerará válida si contiene el símbolo \"@\"."
   ]
  },
  {
   "cell_type": "code",
   "execution_count": 8,
   "metadata": {
    "id": "sk852IZ8RWxK"
   },
   "outputs": [
    {
     "name": "stdin",
     "output_type": "stream",
     "text": [
      "Por favor, ingrese su dirección email ana@ana.es\n"
     ]
    },
    {
     "name": "stdout",
     "output_type": "stream",
     "text": [
      "OK\n"
     ]
    }
   ],
   "source": [
    "email = input (\"Por favor, ingrese su dirección email\")\n",
    "if \"@\" not in email:\n",
    "    print(\"La dirección email dada no es válida\")\n",
    "else:\n",
    "    print(\"OK\")"
   ]
  },
  {
   "cell_type": "markdown",
   "metadata": {
    "id": "Kw1MWBwBRWxK"
   },
   "source": [
    "## Ejercicio 13\n",
    "Escribe una función que compruebe si un DNI es válido, devolviendo `True` en caso afirmativo.  \n",
    "En primer lugar, el DNI debe tener entre 7 y 8 dígitos numéricos.  \n",
    "Para saber si la letra del DNI es correcta puedes utilizar el siguiente fragmento de código:\n",
    ">```Python\n",
    ">DNI= 55555555\n",
    ">palabra='TRWAGMYFPDXBNJZSQVHLCKE'\n",
    ">print('La letra del DNI es: ', palabra[DNI%23])\n",
    ">````\n"
   ]
  },
  {
   "cell_type": "code",
   "execution_count": 10,
   "metadata": {
    "id": "F5Z9rSHqRWxK"
   },
   "outputs": [
    {
     "name": "stdout",
     "output_type": "stream",
     "text": [
      "False\n"
     ]
    }
   ],
   "source": [
    "DNI = \"5555555\"\n",
    "def dni_valido(DNI):\n",
    "    dni_numeros = (DNI[:-1])\n",
    "    dni_letra = DNI [-1].upper()\n",
    "    palabra='TRWAGMYFPDXBNJZSQVHLCKE'\n",
    "    letra_correcta = palabra[int(dni_numeros) % 23]\n",
    "    if (len(dni_numeros) < 7 or len(dni_numeros) > 8):\n",
    "        return False\n",
    "    if not dni_numeros.isdigit():\n",
    "        return False\n",
    "    return dni_letra == letra_correcta\n",
    "\n",
    "if dni_valido(DNI):\n",
    "    print(True)\n",
    "else:\n",
    "    print(False)\n",
    "\n"
   ]
  },
  {
   "cell_type": "code",
   "execution_count": null,
   "metadata": {},
   "outputs": [],
   "source": []
  }
 ],
 "metadata": {
  "colab": {
   "provenance": []
  },
  "kernelspec": {
   "display_name": "Python 3 (ipykernel)",
   "language": "python",
   "name": "python3"
  },
  "language_info": {
   "codemirror_mode": {
    "name": "ipython",
    "version": 3
   },
   "file_extension": ".py",
   "mimetype": "text/x-python",
   "name": "python",
   "nbconvert_exporter": "python",
   "pygments_lexer": "ipython3",
   "version": "3.12.6"
  }
 },
 "nbformat": 4,
 "nbformat_minor": 4
}
